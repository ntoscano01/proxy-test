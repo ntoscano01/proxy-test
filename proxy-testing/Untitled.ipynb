{
 "cells": [
  {
   "cell_type": "code",
   "execution_count": 1,
   "id": "fcc1b608-7f11-42e1-acac-a058bb801ee1",
   "metadata": {},
   "outputs": [],
   "source": [
    "import threading\n",
    "import queue\n",
    "import requests"
   ]
  },
  {
   "cell_type": "code",
   "execution_count": 2,
   "id": "05465d70-c719-452f-9a5c-a767da4d2f0a",
   "metadata": {},
   "outputs": [],
   "source": [
    "q=queue.Queue()\n",
    "valid_proxies = []\n",
    "\n",
    "with open (\"proxy-list.txt\", \"r\") as f:\n",
    "    proxies = f.read().split(\"\\n\")\n",
    "    for p in proxies:\n",
    "        q.put(p)"
   ]
  },
  {
   "cell_type": "code",
   "execution_count": 3,
   "id": "68a5a788-c63d-4753-90cb-c01185bfe92e",
   "metadata": {},
   "outputs": [],
   "source": [
    "def check_proxies():\n",
    "    global q\n",
    "    while not q.empty():\n",
    "        proxy=q.get()\n",
    "        \n",
    "        try:\n",
    "            res = requests.get(\"http://ipinfo.io/json\",\n",
    "                               proxies={\"http\": proxy,\n",
    "                                        \"https\": proxy})\n",
    "        except:\n",
    "            continue\n",
    "        if res.status_code == 200:\n",
    "            print(proxy)\n",
    "\n"
   ]
  },
  {
   "cell_type": "code",
   "execution_count": 4,
   "id": "2aa31b3f-bf8b-4bbd-9489-d28e793f4354",
   "metadata": {},
   "outputs": [],
   "source": [
    "for _ in range(10):\n",
    "    threading.Thread(target=check_proxies).start()"
   ]
  },
  {
   "cell_type": "code",
   "execution_count": null,
   "id": "993847f8-0c74-4467-8584-ffbafc835b3e",
   "metadata": {},
   "outputs": [],
   "source": []
  },
  {
   "cell_type": "code",
   "execution_count": 5,
   "id": "0faf7e4a-3a37-485a-a55d-4ed21d8935f7",
   "metadata": {},
   "outputs": [
    {
     "name": "stdout",
     "output_type": "stream",
     "text": [
      "[]\n",
      "41.77.188.131:80\n",
      "66.225.254.16:80\n",
      "2.189.59.6:80\n",
      "154.65.39.7:80\n"
     ]
    }
   ],
   "source": [
    "print(valid_proxies)"
   ]
  },
  {
   "cell_type": "code",
   "execution_count": 15,
   "id": "2c738d0e-8930-4d76-81aa-6143745ceb90",
   "metadata": {},
   "outputs": [],
   "source": [
    "with open (\"valid-proxies.txt\", \"r\") as f:\n",
    "   proxies = f.read().split(\"\\n\")\n",
    "\n",
    "# proxies = valid_proxies\n",
    "\n",
    "sites_to_check = [\"https://books.toscrape.com/\",\n",
    "                 \"https://books.toscrape.com/catalogue/category/books/fantasy_19/index.html\",\n",
    "                 \"https://books.toscrape.com/catalogue/category/books/history_32/index.html\"]"
   ]
  },
  {
   "cell_type": "code",
   "execution_count": 16,
   "id": "a8102483-44b6-4965-a082-f854e18cb8d5",
   "metadata": {},
   "outputs": [
    {
     "name": "stdout",
     "output_type": "stream",
     "text": [
      "Using the proxy: 41.77.188.131:80\n",
      "Failed\n",
      "Using the proxy: 66.225.254.16:80\n",
      "116.203.28.43:80\n",
      "Failed\n",
      "Using the proxy: 2.189.59.6:80\n",
      "178.128.113.118:23128\n",
      "Failed\n"
     ]
    }
   ],
   "source": [
    "counter = 0\n",
    "\n",
    "for site in sites_to_check:\n",
    "    try:\n",
    "        print(f\"Using the proxy: {proxies[counter]}\")\n",
    "        res = requests.get(site, proxies={\"http\": proxies[counter], \"https\": proxies[counter]})\n",
    "\n",
    "        print(res.status_code)\n",
    "        print(res.text)\n",
    "\n",
    "    except:\n",
    "        print(\"Failed\")\n",
    "        \n",
    "    finally:\n",
    "        counter += 1\n",
    "        counter % len(proxies)"
   ]
  },
  {
   "cell_type": "code",
   "execution_count": null,
   "id": "6fb131aa-ad46-485a-8677-26c6241b748c",
   "metadata": {},
   "outputs": [],
   "source": []
  }
 ],
 "metadata": {
  "kernelspec": {
   "display_name": "transform",
   "language": "python",
   "name": "transform"
  },
  "language_info": {
   "codemirror_mode": {
    "name": "ipython",
    "version": 3
   },
   "file_extension": ".py",
   "mimetype": "text/x-python",
   "name": "python",
   "nbconvert_exporter": "python",
   "pygments_lexer": "ipython3",
   "version": "3.11.2"
  }
 },
 "nbformat": 4,
 "nbformat_minor": 5
}
